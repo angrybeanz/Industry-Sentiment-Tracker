{
 "cells": [
  {
   "cell_type": "code",
   "execution_count": 1,
   "metadata": {},
   "outputs": [],
   "source": [
    "import cnbc\n",
    "import json\n",
    "\n",
    "api_key = '2e53850264msh693f75558afff58p10b08ejsnee185b9ae8da'\n",
    "\n",
    "json_resp = cnbc.list_symbol_news(symbol='AAPL', api_key=api_key, page_size=5)"
   ]
  },
  {
   "cell_type": "code",
   "execution_count": 4,
   "metadata": {},
   "outputs": [
    {
     "name": "stdout",
     "output_type": "stream",
     "text": [
      "{'__typename': 'cnbcnewsstory', 'headline': 'Wall Street analysts touted 5 portfolio stocks this week. Here’s our call on each name', 'pageName': '107364629|2024/01/27/wall-street-touted-5-portfolio-stocks-this-week-our-call-on-each', 'description': 'Analysts made a slew of bullish calls on five of our portfolio names — all of which report earnings next week.', 'dateFirstPublished': '2024-01-27T19:01:01+0000', 'relatedTagsFilteredFormatted': 'stock markets|wall street|technology|breaking news technology|breaking news markets|markets|investment strategy|jim cramer|stock takes|sp 500 index|dow jones industrial average|starbucks corp|microsoft corp|apple inc|amazoncom inc|alphabet inc|meta platforms inc|earnings|wells fargo co', 'sectionHierarchyFormatted': 'cnbc investing club|cnbc investing club analysis', 'authorFormatted': 'NA', 'shortDateFirstPublished': '01/27/2024', 'shortDateLastPublished': '01/27/2024', 'shorterHeadline': 'Wall Street touted 5 portfolio stocks this week. Here’s our call on each name', 'id': 107364629, 'type': 'cnbcnewsstory', 'title': 'Wall Street analysts touted 5 portfolio stocks this week. Here’s our call on each name', 'url': 'https://www.cnbc.com/2024/01/27/wall-street-touted-5-portfolio-stocks-this-week-our-call-on-each.html', 'dateLastPublished': '2024-01-27T19:01:01+0000', 'premium': False, 'promoImage': None, 'section': {'__typename': 'franchise', 'id': 107085830, 'shortestHeadline': 'Analysis', 'tagName': 'CNBC Investing Club: Analysis', 'url': 'https://www.cnbc.com/investingclub/analysis/', 'premium': False}, 'tickerSymbols': [{'__typename': 'security', 'symbol': '.SPX'}, {'__typename': 'security', 'symbol': '.DJI'}, {'__typename': 'security', 'symbol': 'SBUX'}, {'__typename': 'security', 'symbol': 'MSFT'}, {'__typename': 'security', 'symbol': 'AAPL'}, {'__typename': 'security', 'symbol': 'AMZN'}, {'__typename': 'security', 'symbol': 'GOOGL'}, {'__typename': 'security', 'symbol': 'META'}, {'__typename': 'security', 'symbol': 'WFC'}]}\n"
     ]
    }
   ],
   "source": [
    "json_resp['data']['symbolEntries']['results']"
   ]
  }
 ],
 "metadata": {
  "kernelspec": {
   "display_name": "Python 3",
   "language": "python",
   "name": "python3"
  },
  "language_info": {
   "codemirror_mode": {
    "name": "ipython",
    "version": 3
   },
   "file_extension": ".py",
   "mimetype": "text/x-python",
   "name": "python",
   "nbconvert_exporter": "python",
   "pygments_lexer": "ipython3",
   "version": "3.11.7"
  }
 },
 "nbformat": 4,
 "nbformat_minor": 2
}
